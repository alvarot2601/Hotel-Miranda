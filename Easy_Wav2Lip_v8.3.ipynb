{
  "cells": [
    {
      "cell_type": "markdown",
      "metadata": {
        "id": "view-in-github",
        "colab_type": "text"
      },
      "source": [
        "<a href=\"https://colab.research.google.com/github/alvarot2601/Hotel-Miranda/blob/main/Easy_Wav2Lip_v8.3.ipynb\" target=\"_parent\"><img src=\"https://colab.research.google.com/assets/colab-badge.svg\" alt=\"Open In Colab\"/></a>"
      ]
    },
    {
      "cell_type": "markdown",
      "metadata": {
        "id": "fkoF-mm8CGfB"
      },
      "source": [
        "Welcome to my Easy Wav2Lip colab!\n",
        "\n",
        "My goal is to make lipsyncing with this tool easy, fast and great looking!\n",
        "\n",
        "Please view the GitHub for instructions: [https://github.com/anothermartz/Easy-Wav2Lip](https://github.com/anothermartz/Easy-Wav2Lip?tab=readme-ov-file#best-practices)"
      ]
    },
    {
      "cell_type": "code",
      "source": [],
      "metadata": {
        "id": "edl3jnsKyjrz",
        "outputId": "9b1f5047-b383-458c-b34a-4e324f7f3db3",
        "colab": {
          "base_uri": "https://localhost:8080/",
          "height": 106
        }
      },
      "execution_count": 16,
      "outputs": [
        {
          "output_type": "error",
          "ename": "SyntaxError",
          "evalue": "invalid syntax (<ipython-input-16-aa9ee1e2a5ff>, line 1)",
          "traceback": [
            "\u001b[0;36m  File \u001b[0;32m\"<ipython-input-16-aa9ee1e2a5ff>\"\u001b[0;36m, line \u001b[0;32m1\u001b[0m\n\u001b[0;31m    ipython-input-12-\u001b[0m\n\u001b[0m                     ^\u001b[0m\n\u001b[0;31mSyntaxError\u001b[0m\u001b[0;31m:\u001b[0m invalid syntax\n"
          ]
        }
      ]
    },
    {
      "cell_type": "code",
      "execution_count": 17,
      "metadata": {
        "id": "OZJJ-zPGiiIs",
        "cellView": "form",
        "outputId": "1b23db1f-bb62-421e-c1ce-4cbd96230c7d",
        "colab": {
          "base_uri": "https://localhost:8080/"
        }
      },
      "outputs": [
        {
          "output_type": "stream",
          "name": "stdout",
          "text": [
            "Installation complete, move to Step 2!\n",
            "Execution time: 16s\n"
          ]
        }
      ],
      "source": [
        "version = 'v8.3'\n",
        "#@title <h1>Step 1: Setup \"Easy-Wav2Lip\"</h1> With one button: it's really that easy!\n",
        "#@markdown 👈 Click that little circle play button first - it will ask for Google Drive access: <br>\n",
        "#@markdown > Accept if your files are on Google Drive (recommended).\n",
        "#@markdown <br> Alternatively, you can click deny and upload files manually, but this is slower.\n",
        "\n",
        "#check if already installed\n",
        "import os\n",
        "import sys\n",
        "if os.path.exists('installed.txt'):\n",
        "  with open('last_file.txt', 'r') as file:\n",
        "    last_file = file.readline().strip() # Use strip() to remove newline characters\n",
        "  if last_file == version:\n",
        "    # If already installed with the same version, just exit gracefully\n",
        "    print('Easy-Wav2Lip '+version+' has already been run on this instance!')\n",
        "    # Instead of sys.exit, use get_ipython().run_cell_magic for better colab behavior\n",
        "    get_ipython().run_cell_magic('javascript', '', 'IPython.notebook.execute_cells_below()')\n",
        "    # Exit the current cell execution\n",
        "    raise SystemExit(\"Already installed.\")\n",
        "\n",
        "\n",
        "#check GPU is enabled\n",
        "print('checking for GPU')\n",
        "import torch\n",
        "if not torch.cuda.is_available():\n",
        "  sys.exit('No GPU in runtime. Please go to the \"Runtime\" menu, \"Change runtime type\" and select \"GPU\".')\n",
        "\n",
        "#prompt to mount google drive\n",
        "print('requesting Google Drive access')\n",
        "try:\n",
        "  from google.colab import drive\n",
        "  drive.mount('/content/drive')\n",
        "except:\n",
        "  print(\"google drive not linked\")\n",
        "\n",
        "\n",
        "#start timer\n",
        "import time\n",
        "start_time = time.time()\n",
        "\n",
        "#clone git\n",
        "giturl = 'https://github.com/anothermartz/Easy-Wav2Lip.git'\n",
        "\n",
        "\n",
        "!git clone -b {version} {giturl}\n",
        "%cd 'Easy-Wav2Lip'\n",
        "working_directory = os.getcwd()\n",
        "!mkdir 'face_alignment' 'temp'\n",
        "\n",
        "#install prerequisites\n",
        "print('installing batch_face')\n",
        "import warnings\n",
        "warnings.filterwarnings(\"ignore\", category=UserWarning,\n",
        "                        module='torchvision.transforms.functional_tensor')\n",
        "!pip install batch_face --quiet\n",
        "!pip install basicsr==1.4.2 --quiet\n",
        "print('fixing basicsr degradations.py')\n",
        "!cp /content/Easy-Wav2Lip/degradations.py /usr/local/lib/python3.10/dist-packages/basicsr/data/degradations.py\n",
        "print('installing gfpgan')\n",
        "!pip install gfpgan --quiet\n",
        "\n",
        "# Execute the install script\n",
        "# This script should ideally handle creation of 'installed.txt' upon success\n",
        "!python install.py\n",
        "\n",
        "# Moved the creation of installed.txt and last_file.txt here\n",
        "# after the install script runs\n",
        "with open('installed.txt', 'w') as f:\n",
        "  f.write('Installation complete\\n')\n",
        "with open('last_file.txt', 'w') as f:\n",
        "  f.write(version + '\\n')\n",
        "\n",
        "\n",
        "from IPython.display import clear_output\n",
        "clear_output()\n",
        "print(\"Installation complete, move to Step 2!\")\n",
        "\n",
        "#end timer\n",
        "elapsed_time = time.time() - start_time\n",
        "from easy_functions import format_time\n",
        "print(f\"Execution time: {format_time(elapsed_time)}\")"
      ]
    },
    {
      "cell_type": "code",
      "source": [],
      "metadata": {
        "id": "GkD1AVA20EP6"
      },
      "execution_count": null,
      "outputs": []
    },
    {
      "cell_type": "code",
      "source": [
        "!python run.py\n",
        "\n"
      ],
      "metadata": {
        "id": "L1mo_d1C0EFb",
        "outputId": "17ed7609-d6ff-4707-ab68-6b85f6e0f476",
        "colab": {
          "base_uri": "https://localhost:8080/"
        }
      },
      "execution_count": 31,
      "outputs": [
        {
          "output_type": "stream",
          "name": "stdout",
          "text": [
            "Processing input_vid.mp4 using input_audio.wav for audio\n",
            "  File \"/content/Easy-Wav2Lip/Easy-Wav2Lip/Easy-Wav2Lip/Easy-Wav2Lip/inference.py\", line 692\n",
            "    run_params = # load_sr()\n",
            "                 ^^^^^^^^^^^\n",
            "SyntaxError: invalid syntax\n",
            "Processing failed! :( see line above 👆\n",
            "Consider searching the issues tab on the github:\n",
            "https://github.com/anothermartz/Easy-Wav2Lip/issues\n"
          ]
        }
      ]
    },
    {
      "cell_type": "code",
      "source": [
        "if not os.path.exists('installed.txt'):\n",
        "  sys.exit('Step 1 has not been run in this instance! Please run step 1 each time you disconnect from a runtime.')\n",
        "time\n",
        "############################## user inputs #####################################\n",
        "#@markdown <h1>Step 2: Select inputs:</h1>\n",
        "\n",
        "# @markdown On destktop: <h1></h1>Click the folder icon ( 📁 ) at the left edge of colab, find your file, right click, copy path, paste it below:\n",
        "#@markdown<br></br>\n",
        "# @markdown On mobile: <h1></h1>Tap the hamburger button ( ☰ ) at the top left, click show file browser, find your file, long press on it, copy path, paste below:\n",
        "video_file = \"/content/drive/MyDrive/Wav2Lip/input_vid.mp4\" #@param {type:\"string\"}\n",
        "vocal_file = \"/content/drive/MyDrive/Wav2Lip/input_audio.wav\" #@param {type:\"string\"}\n",
        "\n",
        "#@markdown > Keep vocal_file blank if your video already has the desired speech audio encoded into it.\n",
        "#@markdown # Quality\n",
        "quality = \"Improved\" # @param [\"Fast\", \"Improved\", \"Enhanced\"]\n",
        "#@markdown * <b><u>Fast</u></b>: Wav2Lip <br>\n",
        "#@markdown * <b><u>Improved</u></b>: Wav2Lip with a feathered mask around the mouth to remove the square around the face <br>\n",
        "#@markdown * <b><u>Enhanced</u></b>: Wav2Lip + mask + GFPGAN upscaling done on the face\n",
        "#preview_quality = False #@param {type:\"boolean\"} - coming soon!\n",
        "output_height = \"full resolution\" #@param [\"half resolution\", \"full resolution\", \"480\"] {allow-input: true}\n",
        "use_previous_tracking_data = True #@param {type:\"boolean\"}\n",
        "#@markdown Speeds up processing of the same video used multiple times - it should delete the last tracking file automatically when the video is changed but if it's failing after the first video, untick this box.\n",
        "\n",
        "#@markdown\n",
        "#------------------------------*Step 3*----------------------------------------!\n",
        "#@markdown <h1>👈 Step 3:  Click the little circle play button on this cell! </h1> (Or press ctrl + F10) - Then wait for processing to complete.\n",
        "# scale padding with resolution\n",
        "#@markdown <br>\n",
        "\n",
        "#@markdown ---\n",
        "#@markdown <br>\n",
        "\n",
        "#@markdown # [Advanced tweaking](https://github.com/anothermartz/Easy-Wav2Lip/tree/v7#advanced-tweaking) (optional) </h1>Just ignore all of this if you are new, or click the blue titles for instructions.\n",
        "wav2lip_version = \"Wav2Lip\" # @param [\"Wav2Lip\", \"Wav2Lip_GAN\"]\n",
        "nosmooth = True #@param {type:\"boolean\"}\n",
        "#@markdown ### [Padding:](https://github.com/anothermartz/Easy-Wav2Lip/tree/v7#padding)</h1> (Up, Down, Left, Right) <br>\n",
        "U = 0 #@param {type:\"slider\", min:-100, max:100, step:1}\n",
        "D = 10 #@param {type:\"slider\", min:-100, max:100, step:1}\n",
        "L = 0 #@param {type:\"slider\", min:-100, max:100, step:1}\n",
        "R = 0 #@param {type:\"slider\", min:-100, max:100, step:1}\n",
        "#@markdown <br>\n",
        "\n",
        "#@markdown ### [Mask:](https://github.com/anothermartz/Easy-Wav2Lip/tree/v7#other-options)\n",
        "size = 1.5 #@param {type:\"slider\", min:1, max:6, step:0.1}\n",
        "feathering = 1 #@param {type:\"slider\", min:0, max:3, step:1}\n",
        "mouth_tracking = False #@param {type:\"boolean\"}\n",
        "debug_mask = False #@param {type:\"boolean\"}\n",
        "\n",
        "\n",
        "#@markdown # [Other options:](https://github.com/anothermartz/Easy-Wav2Lip/tree/v7#other-options)\n",
        "\n",
        "batch_process = False #@param {type:\"boolean\"}\n",
        "output_suffix = \"_Easy-Wav2Lip\" #@param {type:\"string\"}\n",
        "include_settings_in_suffix = False #@param {type:\"boolean\"}\n",
        "preview_input = False #@param {type:\"boolean\"}\n",
        "preview_settings = False #@param {type:\"boolean\"}\n",
        "#@markdown preview_settings processes only one frame so you can see how it looks without doing the whole video\n",
        "frame_to_preview = 100 # @param {type:\"integer\"}\n",
        "\n",
        "\n",
        "import configparser\n",
        "\n",
        "# Create a ConfigParser object\n",
        "config = configparser.ConfigParser()\n",
        "\n",
        "# Put all your variables in a dictionary\n",
        "options = {\n",
        "    'video_file': video_file,\n",
        "    'vocal_file': vocal_file,\n",
        "    'quality': quality,\n",
        "    'output_height': output_height,\n",
        "    'wav2lip_version': wav2lip_version,\n",
        "    'use_previous_tracking_data': use_previous_tracking_data,\n",
        "    'nosmooth': nosmooth\n",
        "}\n",
        "padding = {\n",
        "    'U': U,\n",
        "    'D': D,\n",
        "    'L': L,\n",
        "    'R': R\n",
        "}\n",
        "mask = {\n",
        "    'size': size,\n",
        "    'feathering': feathering,\n",
        "    'mouth_tracking': mouth_tracking,\n",
        "    'debug_mask': debug_mask\n",
        "}\n",
        "other = {\n",
        "    'batch_process': batch_process,\n",
        "    'output_suffix': output_suffix,\n",
        "    'include_settings_in_suffix': include_settings_in_suffix,\n",
        "    'preview_input': preview_input,\n",
        "    'preview_settings': preview_settings,\n",
        "    'frame_to_preview': frame_to_preview\n",
        "}\n",
        "\n",
        "\n",
        "# Add the dictionary to the ConfigParser object\n",
        "config['OPTIONS'] = options\n",
        "config['PADDING'] = padding\n",
        "config['MASK'] = mask\n",
        "config['OTHER'] = other\n",
        "\n",
        "# Write the data to an INI file\n",
        "with open('config.ini', 'w') as f:\n",
        "    config.write(f)\n",
        "\n",
        "!python run.py\n",
        "\n",
        "from easy_functions import show_video\n",
        "from IPython.display import Image\n",
        "if preview_settings:\n",
        "  if os.path.isfile(os.path.join('temp','preview.jpg')):\n",
        "    display(Image(os.path.join('temp','preview.jpg')))\n",
        "else:\n",
        "  if os.path.isfile(os.path.join('temp','output.mp4')):\n",
        "    print(f\"Loading video preview...\")\n",
        "    show_video(os.path.join('temp','output.mp4'))"
      ],
      "metadata": {
        "id": "akznIwTZK_o8",
        "colab": {
          "base_uri": "https://localhost:8080/"
        },
        "outputId": "3939507c-251e-4512-d135-5b4655f8c162"
      },
      "execution_count": 33,
      "outputs": [
        {
          "output_type": "stream",
          "name": "stdout",
          "text": [
            "Processing input_vid.mp4 using input_audio.wav for audio\n",
            "  File \"/content/Easy-Wav2Lip/Easy-Wav2Lip/Easy-Wav2Lip/Easy-Wav2Lip/inference.py\", line 692\n",
            "    run_params = # load_sr()\n",
            "                 ^^^^^^^^^^^\n",
            "SyntaxError: invalid syntax\n",
            "Processing failed! :( see line above 👆\n",
            "Consider searching the issues tab on the github:\n",
            "https://github.com/anothermartz/Easy-Wav2Lip/issues\n"
          ]
        }
      ]
    }
  ],
  "metadata": {
    "accelerator": "GPU",
    "colab": {
      "provenance": [],
      "gpuType": "T4",
      "include_colab_link": true
    },
    "kernelspec": {
      "display_name": "Python 3",
      "name": "python3"
    },
    "language_info": {
      "name": "python"
    }
  },
  "nbformat": 4,
  "nbformat_minor": 0
}